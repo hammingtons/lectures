{
 "cells": [
  {
   "cell_type": "markdown",
   "metadata": {},
   "source": [
    "## Summary of Week2\n",
    "\n",
    "- Scalars: int, float, bool, None\n",
    "\n",
    "- Non-scalars: list, tuple, str, set, dict\n",
    "\n"
   ]
  },
  {
   "cell_type": "markdown",
   "metadata": {},
   "source": [
    "## Scalars"
   ]
  },
  {
   "cell_type": "code",
   "execution_count": 5,
   "metadata": {},
   "outputs": [
    {
     "name": "stdout",
     "output_type": "stream",
     "text": [
      "<class 'int'>\n",
      "<class 'float'>\n",
      "<class 'bool'>\n",
      "<class 'NoneType'>\n"
     ]
    }
   ],
   "source": [
    "print(type(2))\n",
    "print(type(1.125))\n",
    "print(type(True))\n",
    "print(type(None))"
   ]
  },
  {
   "cell_type": "markdown",
   "metadata": {},
   "source": [
    "## Non-Scalar Data Types\n",
    "\n",
    "* List – a mutable ordered sequence of values\n",
    "* Tuple – an immutable ordered sequence of values\n",
    "* String – an immutable ordered sequence of characters\n",
    "* Set – a mutable unordered collection of unique values\n",
    "* Dictionary – a set of key/value pairs"
   ]
  },
  {
   "cell_type": "markdown",
   "metadata": {},
   "source": [
    "### String\n"
   ]
  },
  {
   "cell_type": "markdown",
   "metadata": {},
   "source": [
    "## String Methods\n",
    "\n",
    "* `S.upper()` – change to upper case\n",
    "* `S.lower()` – change to lower case\n",
    "* `S.capitalize()` – capitalize the first word\n",
    "* `S.find(S1)` – return the index of the first instance of input\n",
    "***************************\n",
    "* `S.replace(S1, S2)` – find all instances of S1 and change to S2\n",
    "* `S.strip(S1)` – remove whitespace characters from the beginning and end of a string (useful when reading in from a file)\n",
    "* `S.split(S1)` – split the string into a list\n",
    "* `S.join(L)` – combine the input sequence into a single string\n"
   ]
  },
  {
   "cell_type": "code",
   "execution_count": 10,
   "metadata": {},
   "outputs": [
    {
     "name": "stdout",
     "output_type": "stream",
     "text": [
      "y =  ['this', 'is', 'a', 'collection', 'of', 'words', 'i', 'would', 'like', 'to', 'break', 'it', 'into', 'tokens']\n",
      "x.split('o') =  ['this is a c', 'llecti', 'n ', 'f w', 'rds i w', 'uld like t', ' break it int', ' t', 'kens']\n"
     ]
    }
   ],
   "source": [
    "x = 'this is a collection of words i would like to break it into tokens'\n",
    "y = x.split()    # default is to split on ' '\n",
    "print(\"y = \", y)\n",
    "print(\"x.split('o') = \", x.split('o')) "
   ]
  },
  {
   "cell_type": "code",
   "execution_count": 11,
   "metadata": {},
   "outputs": [
    {
     "name": "stdout",
     "output_type": "stream",
     "text": [
      "this-is-a-collection-of-words-i-would-like-to-break-it-into-tokens\n"
     ]
    }
   ],
   "source": [
    "x_new = '-'.join(y)\n",
    "print(x_new)"
   ]
  },
  {
   "cell_type": "code",
   "execution_count": null,
   "metadata": {},
   "outputs": [],
   "source": []
  }
 ],
 "metadata": {
  "kernelspec": {
   "display_name": "Python 3",
   "language": "python",
   "name": "python3"
  },
  "language_info": {
   "codemirror_mode": {
    "name": "ipython",
    "version": 3
   },
   "file_extension": ".py",
   "mimetype": "text/x-python",
   "name": "python",
   "nbconvert_exporter": "python",
   "pygments_lexer": "ipython3",
   "version": "3.8.3"
  }
 },
 "nbformat": 4,
 "nbformat_minor": 4
}
