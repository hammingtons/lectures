{
 "cells": [
  {
   "cell_type": "markdown",
   "metadata": {
    "slideshow": {
     "slide_type": "slide"
    }
   },
   "source": [
    "### MY470 Computer Programming\n",
    "# Functional Programming in Python\n",
    "### Week 10 Lab"
   ]
  },
  {
   "cell_type": "markdown",
   "metadata": {
    "slideshow": {
     "slide_type": "slide"
    }
   },
   "source": [
    "## The functional programming paradigm\n",
    "\n",
    "Core principles:\n",
    "* Functions are deterministic and always produce the same output for the same input (set seed for stochastic process)\n",
    "* Functions have no side effects (e.g. modify arguments, modify global variables, print)\n",
    "* Variables and data are immutable\n",
    "* Functions can be passed to other functions as parameters, returned by other functions as output, and stored in data structures\n",
    "* Use recursion to implement iteration"
   ]
  },
  {
   "cell_type": "markdown",
   "metadata": {
    "slideshow": {
     "slide_type": "slide"
    }
   },
   "source": [
    "## The functional programming paradigm\n",
    "\n",
    "![Functional programming](figs/functional_programming.png \"Functional programming\")\n",
    "Source: https://xkcd.com/1790/\n"
   ]
  },
  {
   "cell_type": "markdown",
   "metadata": {
    "slideshow": {
     "slide_type": "slide"
    }
   },
   "source": [
    "## Advantages and disadvantages of functional programming\n",
    "\n",
    "* Advantages\n",
    "    * Code is easier to understand\n",
    "    * Code is easier to test and debug\n",
    "    * FP is needed to implement concurrency/parallelism\n",
    "* Disadvantages\n",
    "    * Pure functions and recursion can be difficult to understand\n",
    "    * Immutable values and recursion can decrease performance\n",
    "    * Immutable values require large memory space\n"
   ]
  },
  {
   "cell_type": "markdown",
   "metadata": {
    "slideshow": {
     "slide_type": "slide"
    }
   },
   "source": [
    "## Functional programming in R vs. Python\n",
    "\n",
    "* R is, at heart, a functional programming language and R users espouse the paradigm\n",
    "    * `apply` functions\n",
    "    * piping `%>%` with `dplyr`\n",
    "    * anonymous functions: `lapply(mtcars, function(x) length(unique(x)))`\n",
    "    \n",
    "* Functional programming is enabled in Python but it is not the preferred paradigm\n",
    "    * Guido van Rossum would rather have you use list comprehensions\n",
    "    * FP tools can be helpful but there is no need to take the paradigm to an extreme\n"
   ]
  },
  {
   "cell_type": "markdown",
   "metadata": {
    "slideshow": {
     "slide_type": "slide"
    }
   },
   "source": [
    "## Anonymous functions with `lambda`\n",
    "\n",
    "`lambda parameter_1, parameter_2: expression`"
   ]
  },
  {
   "cell_type": "markdown",
   "metadata": {},
   "source": [
    "## lambda functions: just a different way to define fuctions in Python\n",
    "\n",
    "* Why should we care at this stage?\n",
    "    * reading other's code\n",
    "    * legibility\n",
    "    * time\n",
    "    \n",
    "* How is it different?\n",
    "    * anonimous\n",
    "    * usually used only once\n",
    "    * as many arguments as you want but one expression\n",
    "\n",
    "* Should you use it?\n",
    "    * legibility?\n",
    "\n",
    "* Importance:\n",
    "    * examples below"
   ]
  },
  {
   "cell_type": "code",
   "execution_count": 3,
   "metadata": {},
   "outputs": [],
   "source": [
    "def square(a):\n",
    "    return a*a\n",
    "square(3)"
   ]
  },
  {
   "cell_type": "code",
   "execution_count": 5,
   "metadata": {},
   "outputs": [
    {
     "data": {
      "text/plain": [
       "16"
      ]
     },
     "execution_count": 5,
     "metadata": {},
     "output_type": "execute_result"
    }
   ],
   "source": [
    "f1 = lambda a: a*a\n",
    "f1(4)"
   ]
  },
  {
   "cell_type": "code",
   "execution_count": 8,
   "metadata": {},
   "outputs": [
    {
     "data": {
      "text/plain": [
       "4.0"
      ]
     },
     "execution_count": 8,
     "metadata": {},
     "output_type": "execute_result"
    }
   ],
   "source": [
    "f2 = lambda a,b:  a/b\n",
    "f2(100, 25)"
   ]
  },
  {
   "cell_type": "code",
   "execution_count": 11,
   "metadata": {},
   "outputs": [
    {
     "data": {
      "text/plain": [
       "2"
      ]
     },
     "execution_count": 11,
     "metadata": {},
     "output_type": "execute_result"
    }
   ],
   "source": [
    "f3 = lambda a,b,c,d,e,f: int(a+b/c**d-e+f)\n",
    "f3(1,2,3,4,5,6)"
   ]
  },
  {
   "cell_type": "code",
   "execution_count": 12,
   "metadata": {},
   "outputs": [],
   "source": [
    "nums = [1,2,3,4,5,6,7,8]"
   ]
  },
  {
   "cell_type": "code",
   "execution_count": 25,
   "metadata": {},
   "outputs": [],
   "source": [
    "?filter"
   ]
  },
  {
   "cell_type": "code",
   "execution_count": 23,
   "metadata": {},
   "outputs": [
    {
     "data": {
      "text/plain": [
       "[2, 4, 6, 8]"
      ]
     },
     "execution_count": 23,
     "metadata": {},
     "output_type": "execute_result"
    }
   ],
   "source": [
    "# old way\n",
    "def is_even(n):\n",
    "    return n%2 == 0\n",
    "filtered = filter(is_even, nums)\n",
    "filtered\n",
    "type(filtered)\n",
    "list(filtered)"
   ]
  },
  {
   "cell_type": "code",
   "execution_count": 29,
   "metadata": {},
   "outputs": [
    {
     "data": {
      "text/plain": [
       "[2, 4, 6, 8]"
      ]
     },
     "execution_count": 29,
     "metadata": {},
     "output_type": "execute_result"
    }
   ],
   "source": [
    "# new way\n",
    "filtered = filter(lambda n: n%2 == 0, nums)\n",
    "list(filtered)"
   ]
  },
  {
   "cell_type": "code",
   "execution_count": null,
   "metadata": {},
   "outputs": [],
   "source": [
    "# An Iterator is an object that can be used to loop through collections"
   ]
  },
  {
   "cell_type": "code",
   "execution_count": 32,
   "metadata": {
    "slideshow": {
     "slide_type": "-"
    }
   },
   "outputs": [
    {
     "data": {
      "text/plain": [
       "['Roald Dahl',\n",
       " 'Zadie Smith',\n",
       " 'J.K. Rowling',\n",
       " 'George Orwell',\n",
       " 'Salman Rushdie']"
      ]
     },
     "execution_count": 32,
     "metadata": {},
     "output_type": "execute_result"
    }
   ],
   "source": [
    "authors = ['George Orwell', 'Zadie Smith', 'J.K. Rowling', \n",
    "           'Roald Dahl', 'Salman Rushdie']\n",
    "# Return list ordered by length of author name\n",
    "sorted(authors, key=len)  "
   ]
  },
  {
   "cell_type": "code",
   "execution_count": 31,
   "metadata": {},
   "outputs": [],
   "source": [
    "?sorted"
   ]
  },
  {
   "cell_type": "code",
   "execution_count": 43,
   "metadata": {},
   "outputs": [
    {
     "data": {
      "text/plain": [
       "['Roald Dahl',\n",
       " 'George Orwell',\n",
       " 'J.K. Rowling',\n",
       " 'Salman Rushdie',\n",
       " 'Zadie Smith']"
      ]
     },
     "execution_count": 43,
     "metadata": {},
     "output_type": "execute_result"
    }
   ],
   "source": [
    "# Old way to return a list of alphabetically ordered names \n",
    "\n",
    "def last_name_letter(name):  # define a function\n",
    "    return name.split()[-1]\n",
    "\n",
    "sorted(authors, key=  last_name_letter)  #use as a key"
   ]
  },
  {
   "cell_type": "code",
   "execution_count": 37,
   "metadata": {
    "slideshow": {
     "slide_type": "-"
    }
   },
   "outputs": [
    {
     "data": {
      "text/plain": [
       "['Roald Dahl',\n",
       " 'George Orwell',\n",
       " 'J.K. Rowling',\n",
       " 'Salman Rushdie',\n",
       " 'Zadie Smith']"
      ]
     },
     "execution_count": 37,
     "metadata": {},
     "output_type": "execute_result"
    }
   ],
   "source": [
    "# New: Return list ordered alphabetically by last name\n",
    "sorted(authors, key=  lambda name: name.split()[-1])  "
   ]
  },
  {
   "cell_type": "markdown",
   "metadata": {
    "slideshow": {
     "slide_type": "slide"
    }
   },
   "source": [
    "## Iteration with `filter`\n",
    "\n",
    "`filter(function_to_evaluate_true, iterable)`"
   ]
  },
  {
   "cell_type": "code",
   "execution_count": 3,
   "metadata": {
    "slideshow": {
     "slide_type": "-"
    }
   },
   "outputs": [],
   "source": [
    "# Return list of authors whose last name starts with 'R'\n",
    "list(filter(lambda name: name.split()[-1][0]=='R', authors))"
   ]
  },
  {
   "cell_type": "markdown",
   "metadata": {
    "slideshow": {
     "slide_type": "slide"
    }
   },
   "source": [
    "## Iteration with `map`\n",
    "\n",
    "`map(function_to_apply, iterable)`"
   ]
  },
  {
   "cell_type": "code",
   "execution_count": 44,
   "metadata": {},
   "outputs": [],
   "source": [
    "?map"
   ]
  },
  {
   "cell_type": "code",
   "execution_count": 4,
   "metadata": {},
   "outputs": [
    {
     "data": {
      "text/plain": [
       "[13, 11, 12, 10, 14]"
      ]
     },
     "execution_count": 4,
     "metadata": {},
     "output_type": "execute_result"
    }
   ],
   "source": [
    "# Get the length of each name in authors\n",
    "list(map(len, authors))"
   ]
  },
  {
   "cell_type": "code",
   "execution_count": 5,
   "metadata": {
    "scrolled": true
   },
   "outputs": [
    {
     "data": {
      "text/plain": [
       "['Orwell, George',\n",
       " 'Smith, Zadie',\n",
       " 'Rowling, J.K.',\n",
       " 'Dahl, Roald',\n",
       " 'Rushdie, Salman']"
      ]
     },
     "execution_count": 5,
     "metadata": {},
     "output_type": "execute_result"
    }
   ],
   "source": [
    "# Invert author name to Last, First\n",
    "list(map(lambda name: ', '.join(reversed(name.split())), authors))"
   ]
  },
  {
   "cell_type": "code",
   "execution_count": 50,
   "metadata": {
    "scrolled": true
   },
   "outputs": [
    {
     "name": "stdout",
     "output_type": "stream",
     "text": [
      "Help on built-in function join:\n",
      "\n",
      "join(iterable, /) method of builtins.str instance\n",
      "    Concatenate any number of strings.\n",
      "    \n",
      "    The string whose method is called is inserted in between each given string.\n",
      "    The result is returned as a new string.\n",
      "    \n",
      "    Example: '.'.join(['ab', 'pq', 'rs']) -> 'ab.pq.rs'\n",
      "\n"
     ]
    }
   ],
   "source": [
    "# Use tab in jupiter!\n",
    "help(', '.join)"
   ]
  },
  {
   "cell_type": "markdown",
   "metadata": {
    "slideshow": {
     "slide_type": "slide"
    }
   },
   "source": [
    "## Iteration with `reduce`\n",
    "\n",
    "Applies a rolling computation to sequential pairs of values in an iterable"
   ]
  },
  {
   "cell_type": "code",
   "execution_count": 52,
   "metadata": {
    "slideshow": {
     "slide_type": "-"
    }
   },
   "outputs": [
    {
     "data": {
      "text/plain": [
       "'George Orwell, Zadie Smith, J.K. Rowling, Roald Dahl, Salman Rushdie'"
      ]
     },
     "execution_count": 52,
     "metadata": {},
     "output_type": "execute_result"
    }
   ],
   "source": [
    "from functools import reduce\n",
    "\n",
    "reduce(lambda x, y: x + ', ' + y, authors)  # equivalent to: ', '.join(authors)"
   ]
  },
  {
   "cell_type": "code",
   "execution_count": 54,
   "metadata": {},
   "outputs": [],
   "source": [
    "# functools — Higher-order functions and operations on callable objects\n",
    "# someone has written the functions for us"
   ]
  },
  {
   "cell_type": "code",
   "execution_count": 53,
   "metadata": {},
   "outputs": [],
   "source": [
    "?reduce"
   ]
  },
  {
   "cell_type": "code",
   "execution_count": 59,
   "metadata": {
    "slideshow": {
     "slide_type": "slide"
    }
   },
   "outputs": [],
   "source": [
    "# Exercise 1: Use map() and lambda to add each elements of two lists below. \n",
    "# The answer should be [101, 210, 400, 1400, 10500].\n",
    "\n",
    "ls1 = [100, 200, 300, 400, 500]\n",
    "ls2 = [1, 10, 100, 1000, 10000]\n"
   ]
  },
  {
   "cell_type": "code",
   "execution_count": 66,
   "metadata": {},
   "outputs": [
    {
     "name": "stdout",
     "output_type": "stream",
     "text": [
      "[101, 210, 400, 1400, 10500]\n"
     ]
    }
   ],
   "source": [
    "ls3 = list(map(lambda x, y: x+y, ls1, ls2))\n",
    "print(ls3)"
   ]
  },
  {
   "cell_type": "code",
   "execution_count": 67,
   "metadata": {
    "slideshow": {
     "slide_type": "-"
    }
   },
   "outputs": [
    {
     "name": "stdout",
     "output_type": "stream",
     "text": [
      "[101, 210, 400, 1400, 10500]\n"
     ]
    }
   ],
   "source": [
    "# Exercise 2: Now use a list comprehension to solve Exercise 1.\n",
    "ls3 = [ls1[i] + ls2[i] for i in range(len(ls1))]\n",
    "print(ls3)"
   ]
  },
  {
   "cell_type": "code",
   "execution_count": 9,
   "metadata": {
    "slideshow": {
     "slide_type": "slide"
    }
   },
   "outputs": [],
   "source": [
    "# Exercise 3: Use map() and lambda to create a list consisting of \n",
    "# the frequency of the letter \"a\" (regardless of case) in each string\n",
    "# in the list below. The answer should be [3, 4, 2, 3].\n",
    "\n",
    "states = [\"Alaska\", \"Alabama\", \"Arizona\", \"Arkansas\"]\n"
   ]
  },
  {
   "cell_type": "code",
   "execution_count": 69,
   "metadata": {},
   "outputs": [],
   "source": [
    "name  = \"Alaska\".lower() \n",
    "# Again, if you are unsure which method to use, use Tab to check your options\n",
    "name.count('a')\n",
    "?name.count"
   ]
  },
  {
   "cell_type": "code",
   "execution_count": 77,
   "metadata": {},
   "outputs": [
    {
     "name": "stdout",
     "output_type": "stream",
     "text": [
      "[3, 4, 2, 3]\n"
     ]
    }
   ],
   "source": [
    "states = [\"Alaska\", \"Alabama\", \"Arizona\", \"Arkansas\"]\n",
    "a_counts = list(map(lambda x: x.lower().count(\"a\"), states))\n",
    "print(a_counts)"
   ]
  },
  {
   "cell_type": "code",
   "execution_count": 15,
   "metadata": {},
   "outputs": [],
   "source": [
    "# Exercise 4: Use filter() and lambda to get a list \n",
    "# of all the vowels in the string.\n",
    "\n",
    "sentence = 'They did nothing as the raccoon attacked the lady’s bag of food.'\n"
   ]
  },
  {
   "cell_type": "code",
   "execution_count": 78,
   "metadata": {},
   "outputs": [
    {
     "name": "stdout",
     "output_type": "stream",
     "text": [
      "['e', 'i', 'o', 'i', 'a', 'e', 'a', 'o', 'o', 'a', 'a', 'e', 'e', 'a', 'a', 'o', 'o', 'o']\n"
     ]
    }
   ],
   "source": [
    "sentence = 'They did nothing as the raccoon attacked the lady’s bag of food.'\n",
    "\n",
    "vowels = list(filter(lambda x: True if x.lower() in 'aeiou' else False, sentence))\n",
    "print(vowels)"
   ]
  },
  {
   "cell_type": "code",
   "execution_count": null,
   "metadata": {},
   "outputs": [],
   "source": []
  }
 ],
 "metadata": {
  "celltoolbar": "Slideshow",
  "kernelspec": {
   "display_name": "Python 3",
   "language": "python",
   "name": "python3"
  },
  "language_info": {
   "codemirror_mode": {
    "name": "ipython",
    "version": 3
   },
   "file_extension": ".py",
   "mimetype": "text/x-python",
   "name": "python",
   "nbconvert_exporter": "python",
   "pygments_lexer": "ipython3",
   "version": "3.7.1"
  }
 },
 "nbformat": 4,
 "nbformat_minor": 2
}
