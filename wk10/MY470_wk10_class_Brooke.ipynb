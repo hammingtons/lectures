{
 "cells": [
  {
   "cell_type": "markdown",
   "metadata": {
    "slideshow": {
     "slide_type": "slide"
    }
   },
   "source": [
    "### MY470 Computer Programming\n",
    "# Functional Programming in Python\n",
    "### Week 10 Lab"
   ]
  },
  {
   "cell_type": "markdown",
   "metadata": {
    "slideshow": {
     "slide_type": "slide"
    }
   },
   "source": [
    "## Recap: What is a function?"
   ]
  },
  {
   "cell_type": "markdown",
   "metadata": {
    "slideshow": {
     "slide_type": "slide"
    }
   },
   "source": [
    "## Recap: What is a function?\n",
    "\n",
    "A named section of a program that performs a specific task. In this sense, a function is a type of procedure or routine. \n"
   ]
  },
  {
   "cell_type": "markdown",
   "metadata": {
    "slideshow": {
     "slide_type": "slide"
    }
   },
   "source": [
    "## Recap: What is Iteration?"
   ]
  },
  {
   "cell_type": "markdown",
   "metadata": {
    "slideshow": {
     "slide_type": "slide"
    }
   },
   "source": [
    "## Recap: What is Iteration?\n",
    "\n",
    "**Iteration** is a general term for taking each item of something, one after another. Any time you use a loop, explicit or implicit, to go over a group of items, that is iteration.\n",
    "\n",
    "A **iterable** is a object you can iterate over, taking sequential indexes starting from zero and returning `IndexError` when the indexes are no longer valid. "
   ]
  },
  {
   "cell_type": "code",
   "execution_count": 40,
   "metadata": {
    "slideshow": {
     "slide_type": "slide"
    }
   },
   "outputs": [],
   "source": [
    "# Some of you have already been using zip()\n",
    "# It takes a series of iterables and combines them together.\n",
    "# Returns a iterator, joining the iterables together into a tuple\n",
    "\n",
    "my_var = zip(range(10),\n",
    "            range(10,20),\n",
    "            range(20,30))"
   ]
  },
  {
   "cell_type": "code",
   "execution_count": 47,
   "metadata": {
    "slideshow": {
     "slide_type": "subslide"
    }
   },
   "outputs": [
    {
     "data": {
      "text/plain": [
       "(6, 16, 26)"
      ]
     },
     "execution_count": 47,
     "metadata": {},
     "output_type": "execute_result"
    }
   ],
   "source": [
    "next(my_var)"
   ]
  },
  {
   "cell_type": "code",
   "execution_count": null,
   "metadata": {
    "slideshow": {
     "slide_type": "subslide"
    }
   },
   "outputs": [],
   "source": [
    "next(my_var)"
   ]
  },
  {
   "cell_type": "markdown",
   "metadata": {
    "slideshow": {
     "slide_type": "slide"
    }
   },
   "source": [
    "## Procedural Programing Paradigm\n",
    "\n",
    "A programming paradigm is the standard practice, how you *think about* or *approach a problem*.\n",
    "\n",
    "Python at it's core follows the procedural programming paradigm.\n",
    "\n",
    "- Think of programming like a recipe.\n",
    "- You give specific instructions on what to do and how to do it\n",
    "- You have a global state that you are modifying\n",
    "\n",
    "You think about how things are changing over time rather that what methods you are calling to get result you want."
   ]
  },
  {
   "cell_type": "markdown",
   "metadata": {
    "slideshow": {
     "slide_type": "slide"
    }
   },
   "source": [
    "## The functional programming paradigm\n",
    "\n",
    "Core principles:\n",
    "* Functions are deterministic and always produce the same output for the same input (set seed for stochastic process)\n",
    "* Functions have no side effects (e.g. modify arguments, modify global variables, print)\n",
    "* Variables and data are immutable\n",
    "* Functions can be passed to other functions as parameters, returned by other functions as output, and stored in data structures\n",
    "* Use recursion to implement iteration"
   ]
  },
  {
   "cell_type": "markdown",
   "metadata": {
    "slideshow": {
     "slide_type": "slide"
    }
   },
   "source": [
    "## The functional programming paradigm\n",
    "\n",
    "![Functional programming](figs/functional_programming.png \"Functional programming\")\n",
    "Source: https://xkcd.com/1790/\n"
   ]
  },
  {
   "cell_type": "markdown",
   "metadata": {
    "slideshow": {
     "slide_type": "slide"
    }
   },
   "source": [
    "## Advantages and disadvantages of functional programming\n",
    "\n",
    "* Advantages\n",
    "    * Code is easier to understand\n",
    "    * Code is easier to test and debug\n",
    "    * FP is needed to implement concurrency/parallelism\n",
    "* Disadvantages\n",
    "    * Pure functions and recursion can be difficult to understand\n",
    "    * Immutable values and recursion can decrease performance\n",
    "    * Immutable values require large memory space\n"
   ]
  },
  {
   "cell_type": "markdown",
   "metadata": {
    "slideshow": {
     "slide_type": "slide"
    }
   },
   "source": [
    "## Functional programming in R vs. Python\n",
    "\n",
    "* R is, at heart, a functional programming language and R users espouse the paradigm\n",
    "    * `apply` functions\n",
    "    * piping `%>%` with `dplyr`\n",
    "    * anonymous functions: `lapply(mtcars, function(x) length(unique(x)))`\n",
    "    \n",
    "* Functional programming is enabled in Python but it is not the preferred paradigm\n",
    "    * Guido van Rossum would rather have you use list comprehensions\n",
    "    * FP tools can be helpful but there is no need to take the paradigm to an extreme\n"
   ]
  },
  {
   "cell_type": "markdown",
   "metadata": {
    "slideshow": {
     "slide_type": "slide"
    }
   },
   "source": [
    "## Anonymous functions with `lambda`\n",
    "\n",
    "A function definition that is not bound to an identifier (i.e. it's not defined using `def`).\n",
    "\n",
    "Anonymous functions are also called function-literals.\n",
    "\n",
    "If the function is only used once, or a limited number of times, an anonymous function may be syntactically lighter than using a named function.\n",
    "\n",
    "A lambda function can take **any number of arguments**, but can only have **one expression**."
   ]
  },
  {
   "cell_type": "markdown",
   "metadata": {
    "slideshow": {
     "slide_type": "slide"
    }
   },
   "source": [
    "In lambda your code must be on the same line, you can use a ```\\``` to break up lines, but anonymous functions should not be very long.\n",
    "``` python\n",
    "\n",
    "def my_function(parameter_1, parameter_2):\n",
    "    expression\n",
    "\n",
    "```\n",
    "\n",
    "In python lambda is a expression, you have a parameter list like you do in a user defined function. \n",
    "\n",
    "``` python\n",
    "lambda parameter_1, parameter_2: expression\n",
    "```\n",
    "The lambda expression **returns a callable** (i.e. function). \n"
   ]
  },
  {
   "cell_type": "code",
   "execution_count": null,
   "metadata": {
    "slideshow": {
     "slide_type": "slide"
    }
   },
   "outputs": [],
   "source": [
    "## SYNTAX EXAMPLES: Abstract\n",
    "\n",
    "# Add numbers together\n",
    "lambda a, b : a + b\n",
    "\n",
    "# Number of arguements \n",
    "# NOTE: Like in user defined fuctions we can use * before \n",
    "# the parameter name to receive a arbitrary number (tuple) of arguments.\n",
    "lambda *args: len(args)\n",
    "\n",
    "# Raise to the power of 3\n",
    "lambda x : x**3\n",
    "\n",
    "# Typically we don't assign lambda to variables, \n",
    "# and we use it for very simple functions like this."
   ]
  },
  {
   "cell_type": "code",
   "execution_count": 9,
   "metadata": {
    "slideshow": {
     "slide_type": "slide"
    }
   },
   "outputs": [
    {
     "data": {
      "text/plain": [
       "['Roald Dahl',\n",
       " 'Zadie Smith',\n",
       " 'J.K. Rowling',\n",
       " 'George Orwell',\n",
       " 'Salman Rushdie']"
      ]
     },
     "execution_count": 9,
     "metadata": {},
     "output_type": "execute_result"
    }
   ],
   "source": [
    "authors = ['George Orwell', 'Zadie Smith', 'J.K. Rowling', \n",
    "           'Roald Dahl', 'Salman Rushdie']\n",
    "# Return list ordered by length of author name\n",
    "sorted(authors, key=len)  "
   ]
  },
  {
   "cell_type": "code",
   "execution_count": null,
   "metadata": {
    "slideshow": {
     "slide_type": "subslide"
    }
   },
   "outputs": [],
   "source": [
    "# Return list ordered alphabetically by last name\n",
    "sorted(authors, key=lambda name: name.split()[-1])  "
   ]
  },
  {
   "cell_type": "markdown",
   "metadata": {
    "slideshow": {
     "slide_type": "slide"
    }
   },
   "source": [
    "## Iteration with `filter`\n",
    "\n",
    "`filter(function_to_evaluate_true, iterable)`\n",
    "\n",
    "\n",
    "### What is a iterable?\n",
    "\n",
    "\n",
    "Filter returns a iterable.\n",
    "\n",
    "Filter applies the function to each item in the iterator, if the result is `True` then it adds it to the iterator. \n",
    "\n",
    "If it is `False` then it keeps going until it finds a `True`."
   ]
  },
  {
   "cell_type": "code",
   "execution_count": 56,
   "metadata": {
    "slideshow": {
     "slide_type": "slide"
    }
   },
   "outputs": [],
   "source": [
    "my_var = list(filter(lambda a: a%2 == 1,\n",
    "            reversed(range(100))))\n",
    "\n",
    "# What is the first result of calling next() my_var?"
   ]
  },
  {
   "cell_type": "code",
   "execution_count": 57,
   "metadata": {
    "slideshow": {
     "slide_type": "subslide"
    }
   },
   "outputs": [
    {
     "data": {
      "text/plain": [
       "[99,\n",
       " 97,\n",
       " 95,\n",
       " 93,\n",
       " 91,\n",
       " 89,\n",
       " 87,\n",
       " 85,\n",
       " 83,\n",
       " 81,\n",
       " 79,\n",
       " 77,\n",
       " 75,\n",
       " 73,\n",
       " 71,\n",
       " 69,\n",
       " 67,\n",
       " 65,\n",
       " 63,\n",
       " 61,\n",
       " 59,\n",
       " 57,\n",
       " 55,\n",
       " 53,\n",
       " 51,\n",
       " 49,\n",
       " 47,\n",
       " 45,\n",
       " 43,\n",
       " 41,\n",
       " 39,\n",
       " 37,\n",
       " 35,\n",
       " 33,\n",
       " 31,\n",
       " 29,\n",
       " 27,\n",
       " 25,\n",
       " 23,\n",
       " 21,\n",
       " 19,\n",
       " 17,\n",
       " 15,\n",
       " 13,\n",
       " 11,\n",
       " 9,\n",
       " 7,\n",
       " 5,\n",
       " 3,\n",
       " 1]"
      ]
     },
     "execution_count": 57,
     "metadata": {},
     "output_type": "execute_result"
    }
   ],
   "source": [
    "# It returns odd numbers, counting back from 100\n",
    "# If we run next several times ...\n",
    "my_var"
   ]
  },
  {
   "cell_type": "code",
   "execution_count": 58,
   "metadata": {
    "slideshow": {
     "slide_type": "slide"
    }
   },
   "outputs": [
    {
     "data": {
      "text/plain": [
       "['J.K. Rowling', 'Salman Rushdie']"
      ]
     },
     "execution_count": 58,
     "metadata": {},
     "output_type": "execute_result"
    }
   ],
   "source": [
    "# List of authors we looked at earlier.\n",
    "# Return list of authors whose last name starts with 'R'\n",
    "list(filter(lambda name: name.split()[-1][0]=='R', authors))"
   ]
  },
  {
   "cell_type": "code",
   "execution_count": 59,
   "metadata": {
    "slideshow": {
     "slide_type": "slide"
    }
   },
   "outputs": [
    {
     "data": {
      "text/plain": [
       "[1, 8, 5.2, 0, 4, 7, 9, 3]"
      ]
     },
     "execution_count": 59,
     "metadata": {},
     "output_type": "execute_result"
    }
   ],
   "source": [
    "# Filter function is used to select certain bits of data based \n",
    "# on a criteria it filters out the data that you don't need.\n",
    "\n",
    "# Select data that is below the average.\n",
    "# The filter function will only return the results \n",
    "# where the value is true.\n",
    "import statistics\n",
    "\n",
    "data = [1 ,8, 45, 5.2, 0, 28, 4, 16, 7 ,9, 3]\n",
    "avg = statistics.mean(data)\n",
    "\n",
    "# Can pass the filter object to the list constructor\n",
    "above_avg = list(filter(lambda x: x < avg, data))\n",
    "\n",
    "above_avg"
   ]
  },
  {
   "cell_type": "code",
   "execution_count": 60,
   "metadata": {
    "slideshow": {
     "slide_type": "slide"
    }
   },
   "outputs": [
    {
     "data": {
      "text/plain": [
       "['Sian', 'Yan', 'Milena', 'Friedrich']"
      ]
     },
     "execution_count": 60,
     "metadata": {},
     "output_type": "execute_result"
    }
   ],
   "source": [
    "# Can use to filter out empty strings from a list\n",
    "names = [\"Sian\", \"\", \"Yan\", \"Milena\", \"\", \"Friedrich\"]\n",
    "\n",
    "# We can pass None as the first arguement\n",
    "# Filters out all values that evaluate to False in a boolean setting\n",
    "# In python, the values that are passed as False as empty.\n",
    "filt_names = list(filter(None, names))\n",
    "filt_names"
   ]
  },
  {
   "cell_type": "markdown",
   "metadata": {
    "slideshow": {
     "slide_type": "slide"
    }
   },
   "source": [
    "## Iteration with `map`\n",
    "\n",
    "`map(function_to_apply, iterable)`\n",
    "\n",
    "`map()` takes a function (in our case a anonymous function) and (one or more) iterable. Returns a iterator.\n",
    "\n",
    "1. Takes each of the iterables.\n",
    "2. Calls next() on each of them. \n",
    "3. Passes these as a series of arguments to the function.\n",
    "4. The result of the iterator is the result of the function.\n"
   ]
  },
  {
   "cell_type": "code",
   "execution_count": 61,
   "metadata": {
    "slideshow": {
     "slide_type": "slide"
    }
   },
   "outputs": [],
   "source": [
    "# Takes x and y and adds them together\n",
    "# returns a iterable.\n",
    "my_var = map(lambda x, y: x + y, range(10), range(10,20))"
   ]
  },
  {
   "cell_type": "code",
   "execution_count": 67,
   "metadata": {
    "slideshow": {
     "slide_type": "subslide"
    }
   },
   "outputs": [
    {
     "data": {
      "text/plain": [
       "20"
      ]
     },
     "execution_count": 67,
     "metadata": {},
     "output_type": "execute_result"
    }
   ],
   "source": [
    "next(my_var)"
   ]
  },
  {
   "cell_type": "code",
   "execution_count": 68,
   "metadata": {
    "slideshow": {
     "slide_type": "subslide"
    }
   },
   "outputs": [
    {
     "data": {
      "text/plain": [
       "[13, 11, 12, 10, 14]"
      ]
     },
     "execution_count": 68,
     "metadata": {},
     "output_type": "execute_result"
    }
   ],
   "source": [
    "# We can pass inbuilt funtions to map\n",
    "# Get the length of each name in authors\n",
    "list(map(len, authors))\n",
    "\n",
    "# In python, functions are \"first class citizens\".\n",
    "# This means that it supports passing functions as arguements to other funtions.\n"
   ]
  },
  {
   "cell_type": "code",
   "execution_count": null,
   "metadata": {
    "slideshow": {
     "slide_type": "subslide"
    }
   },
   "outputs": [],
   "source": [
    "# Invert author name to Last, First\n",
    "list(map(lambda name: ', '.join(reversed(name.split())), authors))"
   ]
  },
  {
   "cell_type": "code",
   "execution_count": 69,
   "metadata": {
    "slideshow": {
     "slide_type": "slide"
    }
   },
   "outputs": [
    {
     "data": {
      "text/plain": [
       "[12.566370614359172,\n",
       " 78.53981633974483,\n",
       " 191.134497044403,\n",
       " 55.41769440932395,\n",
       " 4300.840342764427]"
      ]
     },
     "execution_count": 69,
     "metadata": {},
     "output_type": "execute_result"
    }
   ],
   "source": [
    "# Radius funtion comparison\n",
    "import math\n",
    "\n",
    "def area(r):\n",
    "    \"\"\"\n",
    "    Area of a circle with radius 'r'.\n",
    "    Accepts numeric types\n",
    "    \"\"\"\n",
    "    return math.pi * (r**2)\n",
    "\n",
    "radii = [2, 5, 7.8, 4.2, 37]\n",
    "\n",
    "# What if we need to compute the area for lots of different circles?\n",
    "areas = []\n",
    "for r in radii:\n",
    "    a = area(r)\n",
    "    areas.append(a)\n",
    "    \n",
    "# With map ... (can pass the map object to the list constructor)\n",
    "list(map(area, radii))"
   ]
  },
  {
   "cell_type": "markdown",
   "metadata": {
    "slideshow": {
     "slide_type": "slide"
    }
   },
   "source": [
    "## Iteration with `reduce`\n",
    "\n",
    "Applies a rolling computation to sequential pairs of values in an iterable"
   ]
  },
  {
   "cell_type": "code",
   "execution_count": 32,
   "metadata": {
    "slideshow": {
     "slide_type": "-"
    }
   },
   "outputs": [
    {
     "data": {
      "text/plain": [
       "'George Orwell, Zadie Smith, J.K. Rowling, Roald Dahl, Salman Rushdie'"
      ]
     },
     "execution_count": 32,
     "metadata": {},
     "output_type": "execute_result"
    }
   ],
   "source": [
    "# No longer a built in funtions in python 3\n",
    "\n",
    "# Guido van Rossum: \"Use functools.reduce() is you really need it; \n",
    "# however 99% of the time a explict for loop is more readable.\"\n",
    "\n",
    "from functools import reduce\n",
    "\n",
    "reduce(lambda x, y: x + ', ' + y, authors)  # equivalent to: ', '.join(authors)"
   ]
  },
  {
   "cell_type": "markdown",
   "metadata": {
    "slideshow": {
     "slide_type": "slide"
    }
   },
   "source": [
    "```\n",
    "data = [a, b, c, d, e, ... n]\n",
    "\n",
    "reduce(function, data):\n",
    "    Step 1: val_1 = function(a, b)\n",
    "    Step 2: val_2 = funtion(val_1, c)\n",
    "    Step 2: val_3 = funtion(val_2, d)\n",
    "    Step 2: val_4 = funtion(val_3, e)\n",
    "    [...]\n",
    "    Step n-1: val_n-1 = function(val_n-2, n)\n",
    "```"
   ]
  },
  {
   "cell_type": "code",
   "execution_count": 70,
   "metadata": {
    "slideshow": {
     "slide_type": "slide"
    }
   },
   "outputs": [
    {
     "name": "stdout",
     "output_type": "stream",
     "text": [
      "6469693230\n",
      "6469693230\n"
     ]
    }
   ],
   "source": [
    "# Multiply all numbers in a list\n",
    "\n",
    "data = [2, 3, 5, 7, 11, 13, 17, 19, 23, 29]\n",
    "\n",
    "# To use reduce, you need a funtion that takes two inputs.\n",
    "multiplier = lambda x, y: x*y\n",
    "print(reduce(multiplier, data))\n",
    "\n",
    "# For loop\n",
    "product = 1\n",
    "for x in data:\n",
    "    product = product * x # WHAT METHOD OF SOLVING THE PROBLEM IS THIS USING?\n",
    "    \n",
    "print(product)"
   ]
  },
  {
   "cell_type": "code",
   "execution_count": 2,
   "metadata": {
    "slideshow": {
     "slide_type": "slide"
    }
   },
   "outputs": [
    {
     "name": "stdout",
     "output_type": "stream",
     "text": [
      "[101, 210, 400, 1400, 10500]\n"
     ]
    }
   ],
   "source": [
    "# Exercise 1: Use map() and lambda to add each elements of the two lists below. \n",
    "# The answer should be [101, 210, 400, 1400, 10500].\n",
    "\n",
    "ls1 = [100, 200, 300, 400, 500]\n",
    "ls2 = [1, 10, 100, 1000, 10000]\n",
    "\n",
    "\n",
    "ls3 = list(map(lambda x, y: x+y, ls1, ls2))\n",
    "print(ls3)"
   ]
  },
  {
   "cell_type": "code",
   "execution_count": 3,
   "metadata": {
    "slideshow": {
     "slide_type": "slide"
    }
   },
   "outputs": [
    {
     "name": "stdout",
     "output_type": "stream",
     "text": [
      "[101, 210, 400, 1400, 10500]\n"
     ]
    }
   ],
   "source": [
    "# Exercise 2: Now use a list comprehension to solve Exercise 1.\n",
    "\n",
    "ls3 = [ls1[i] + ls2[i] for i in range(len(ls1))]\n",
    "ls3 = [i + j for i, j in zip(ls1, ls2)]\n",
    "print(ls3)"
   ]
  },
  {
   "cell_type": "code",
   "execution_count": 34,
   "metadata": {
    "slideshow": {
     "slide_type": "slide"
    }
   },
   "outputs": [
    {
     "name": "stdout",
     "output_type": "stream",
     "text": [
      "[3, 4, 2, 3]\n"
     ]
    }
   ],
   "source": [
    "# Exercise 3: Use map() and lambda to create a list consisting of \n",
    "# the frequency of the letter \"a\" (regardless of case) in each string\n",
    "# in the list below. The answer should be [3, 4, 2, 3].\n",
    "\n",
    "states = [\"Alaska\", \"Alabama\", \"Arizona\", \"Arkansas\"]\n",
    "a_counts = list(map(lambda x: x.lower().count(\"a\"), states))\n",
    "print(a_counts)"
   ]
  },
  {
   "cell_type": "code",
   "execution_count": 4,
   "metadata": {
    "slideshow": {
     "slide_type": "slide"
    }
   },
   "outputs": [
    {
     "name": "stdout",
     "output_type": "stream",
     "text": [
      "['e', 'i', 'o', 'i', 'a', 'e', 'a', 'o', 'o', 'a', 'a', 'e', 'e', 'a', 'a', 'o', 'o', 'o']\n"
     ]
    }
   ],
   "source": [
    "# Exercise 4: Use filter() and lambda to get a list \n",
    "# of all the vowels in the string.\n",
    "\n",
    "sentence = 'They did nothing as the raccoon attacked the lady’s bag of food.'\n",
    "\n",
    "vowels = list(filter(lambda x: True if x.lower() in 'aeiou' else False, sentence))\n",
    "print(vowels)"
   ]
  },
  {
   "cell_type": "markdown",
   "metadata": {
    "slideshow": {
     "slide_type": "slide"
    }
   },
   "source": [
    "## Summary\n",
    "\n",
    "`Filter` takes all objects in a list and runs that through a function to create a new list with all objects that return True in that function.\n",
    "\n",
    "`Map` takes all objects in a list and allows you to apply a function to it. \n",
    "\n",
    "`Reduce` applies a function to all of the list elements mentioned in the sequence passed along."
   ]
  }
 ],
 "metadata": {
  "celltoolbar": "Slideshow",
  "kernelspec": {
   "display_name": "Python 3",
   "language": "python",
   "name": "python3"
  },
  "language_info": {
   "codemirror_mode": {
    "name": "ipython",
    "version": 3
   },
   "file_extension": ".py",
   "mimetype": "text/x-python",
   "name": "python",
   "nbconvert_exporter": "python",
   "pygments_lexer": "ipython3",
   "version": "3.8.5"
  }
 },
 "nbformat": 4,
 "nbformat_minor": 2
}
